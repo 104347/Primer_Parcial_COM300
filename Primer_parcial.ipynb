{
  "nbformat": 4,
  "nbformat_minor": 0,
  "metadata": {
    "colab": {
      "provenance": [],
      "gpuType": "T4",
      "collapsed_sections": [
        "LO2tYBACn1CL",
        "yQG2ox_en64q",
        "Joe13yKJgPjR",
        "fSOZAGrNoG1D",
        "W7gwbKsmQds9",
        "CFo_rTngod_a",
        "gdT_Eipdpnia"
      ]
    },
    "kernelspec": {
      "name": "python3",
      "display_name": "Python 3"
    },
    "language_info": {
      "name": "python"
    },
    "accelerator": "GPU"
  },
  "cells": [
    {
      "cell_type": "markdown",
      "source": [
        "# **1. Preprocesamiento del dataset**"
      ],
      "metadata": {
        "id": "LO2tYBACn1CL"
      }
    },
    {
      "cell_type": "code",
      "execution_count": 139,
      "metadata": {
        "id": "XG8sQ012k7te"
      },
      "outputs": [],
      "source": [
        "!pip install -q kagglehub"
      ]
    },
    {
      "cell_type": "code",
      "source": [
        "import kagglehub\n",
        "\n",
        "# Download latest version\n",
        "path = kagglehub.dataset_download(\"asaniczka/52000-animation-movie-details-dataset-2024\")\n",
        "\n",
        "print(\"Path to dataset files:\", path)"
      ],
      "metadata": {
        "colab": {
          "base_uri": "https://localhost:8080/"
        },
        "id": "7vjKDMwQlOKK",
        "outputId": "b0189220-5040-453c-bc96-34d5593b8f5c"
      },
      "execution_count": 140,
      "outputs": [
        {
          "output_type": "stream",
          "name": "stdout",
          "text": [
            "Path to dataset files: /root/.cache/kagglehub/datasets/asaniczka/52000-animation-movie-details-dataset-2024/versions/1\n"
          ]
        }
      ]
    },
    {
      "cell_type": "code",
      "source": [
        "import pandas as pd\n",
        "import numpy as np\n",
        "import matplotlib.pyplot as plt\n",
        "import seaborn as sns"
      ],
      "metadata": {
        "id": "fEl7LMNtwJ7_"
      },
      "execution_count": 141,
      "outputs": []
    },
    {
      "cell_type": "code",
      "source": [
        "# Preprocesamiento\n",
        "from sklearn.model_selection import train_test_split\n",
        "from sklearn.preprocessing import StandardScaler, LabelEncoder\n",
        "from sklearn.metrics import accuracy_score, confusion_matrix, classification_report\n",
        "\n",
        "import torch\n",
        "import torch.nn as nn\n",
        "import torch.nn.functional as F\n",
        "import torch.optim as optim\n",
        "from torch.utils.data import DataLoader, TensorDataset\n",
        "\n",
        "# Cargar CSV\n",
        "import os"
      ],
      "metadata": {
        "id": "Mb5Y2eWexQhm"
      },
      "execution_count": 142,
      "outputs": []
    },
    {
      "cell_type": "code",
      "source": [
        "print(\"Archivos en la carpeta:\")\n",
        "print(os.listdir(path))"
      ],
      "metadata": {
        "colab": {
          "base_uri": "https://localhost:8080/"
        },
        "id": "DiN_1K1xhxhv",
        "outputId": "690012bc-7fb6-488e-96a2-c3621d4c24bb"
      },
      "execution_count": 143,
      "outputs": [
        {
          "output_type": "stream",
          "name": "stdout",
          "text": [
            "Archivos en la carpeta:\n",
            "['Animation_Movies.csv']\n"
          ]
        }
      ]
    },
    {
      "cell_type": "code",
      "source": [
        "csv_path = os.path.join(path, \"Animation_Movies.csv\")\n",
        "\n",
        "df = pd.read_csv(csv_path)\n",
        "\n",
        "print(\"Dimensiones:\", df.shape)\n",
        "df.head()"
      ],
      "metadata": {
        "colab": {
          "base_uri": "https://localhost:8080/",
          "height": 672
        },
        "collapsed": true,
        "id": "lqmQ5b29y0-f",
        "outputId": "3b3d6101-73f1-41c1-cc39-02825f5a46e6"
      },
      "execution_count": 144,
      "outputs": [
        {
          "output_type": "stream",
          "name": "stdout",
          "text": [
            "Dimensiones: (51945, 23)\n"
          ]
        },
        {
          "output_type": "execute_result",
          "data": {
            "text/plain": [
              "       id         title  vote_average  vote_count    status release_date  \\\n",
              "0  150540    Inside Out         7.922       19463  Released   2015-06-09   \n",
              "1   14160            Up         7.949       18857  Released   2009-05-28   \n",
              "2      12  Finding Nemo         7.824       18061  Released   2003-05-30   \n",
              "3  354912          Coco         8.222       17742  Released   2017-10-27   \n",
              "4   10681        WALL·E         8.078       17446  Released   2008-06-22   \n",
              "\n",
              "     revenue  runtime  adult                     backdrop_path  ...  \\\n",
              "0  857611174       95  False  /j29ekbcLpBvxnGk6LjdTc2EI5SA.jpg  ...   \n",
              "1  735099082       96  False  /hGGC9gKo7CFE3fW07RA587e5kol.jpg  ...   \n",
              "2  940335536      100  False  /h3uqFk7sZRJvLZDdLiFB9qwbL07.jpg  ...   \n",
              "3  800526015      105  False  /askg3SMvhqEl4OL52YuvdtY40Yb.jpg  ...   \n",
              "4  521311860       98  False  /fK5ssgvtI43z19FoWigdlqgpLRE.jpg  ...   \n",
              "\n",
              "   original_language original_title  \\\n",
              "0                 en     Inside Out   \n",
              "1                 en             Up   \n",
              "2                 en   Finding Nemo   \n",
              "3                 en           Coco   \n",
              "4                 en         WALL·E   \n",
              "\n",
              "                                            overview popularity  \\\n",
              "0  Growing up can be a bumpy road, and it's no ex...    107.292   \n",
              "1  Carl Fredricksen spent his entire life dreamin...     90.968   \n",
              "2  Nemo, an adventurous young clownfish, is unexp...     55.456   \n",
              "3  Despite his family’s baffling generations-old ...    166.578   \n",
              "4  What if mankind had to leave Earth and somebod...     58.517   \n",
              "\n",
              "                        poster_path  \\\n",
              "0  /2H1TmgdfNtsKlU9jKdeNyYL5y8T.jpg   \n",
              "1  /vpbaStTMt8qqXaEgnOR2EE4DNJk.jpg   \n",
              "2  /ggQ6o8X5984OCh3kZi2UIJQJY5y.jpg   \n",
              "3  /gGEsBPAijhVUFoiNpgZXqRVWJt2.jpg   \n",
              "4  /hbhFnRzzg6ZDmm8YAmxBnQpQIPh.jpg   \n",
              "\n",
              "                                             tagline  \\\n",
              "0           Meet the little voices inside your head.   \n",
              "1  The greatest adventure is just getting back home.   \n",
              "2  There are 3.7 trillion fish in the ocean. They...   \n",
              "3                      The celebration of a lifetime   \n",
              "4  After 700 years of doing what he was built for...   \n",
              "\n",
              "                                              genres  \\\n",
              "0        Animation, Family, Adventure, Drama, Comedy   \n",
              "1               Animation, Comedy, Family, Adventure   \n",
              "2                                  Animation, Family   \n",
              "3  Family, Animation, Fantasy, Music, Comedy, Adv...   \n",
              "4                 Animation, Family, Science Fiction   \n",
              "\n",
              "          production_companies      production_countries  spoken_languages  \n",
              "0  Pixar, Walt Disney Pictures  United States of America           English  \n",
              "1                        Pixar  United States of America           English  \n",
              "2                        Pixar  United States of America           English  \n",
              "3  Pixar, Walt Disney Pictures  United States of America  English, Spanish  \n",
              "4  Pixar, Walt Disney Pictures  United States of America           English  \n",
              "\n",
              "[5 rows x 23 columns]"
            ],
            "text/html": [
              "\n",
              "  <div id=\"df-3f2e825c-f16d-46e6-a359-1daa0fe98385\" class=\"colab-df-container\">\n",
              "    <div>\n",
              "<style scoped>\n",
              "    .dataframe tbody tr th:only-of-type {\n",
              "        vertical-align: middle;\n",
              "    }\n",
              "\n",
              "    .dataframe tbody tr th {\n",
              "        vertical-align: top;\n",
              "    }\n",
              "\n",
              "    .dataframe thead th {\n",
              "        text-align: right;\n",
              "    }\n",
              "</style>\n",
              "<table border=\"1\" class=\"dataframe\">\n",
              "  <thead>\n",
              "    <tr style=\"text-align: right;\">\n",
              "      <th></th>\n",
              "      <th>id</th>\n",
              "      <th>title</th>\n",
              "      <th>vote_average</th>\n",
              "      <th>vote_count</th>\n",
              "      <th>status</th>\n",
              "      <th>release_date</th>\n",
              "      <th>revenue</th>\n",
              "      <th>runtime</th>\n",
              "      <th>adult</th>\n",
              "      <th>backdrop_path</th>\n",
              "      <th>...</th>\n",
              "      <th>original_language</th>\n",
              "      <th>original_title</th>\n",
              "      <th>overview</th>\n",
              "      <th>popularity</th>\n",
              "      <th>poster_path</th>\n",
              "      <th>tagline</th>\n",
              "      <th>genres</th>\n",
              "      <th>production_companies</th>\n",
              "      <th>production_countries</th>\n",
              "      <th>spoken_languages</th>\n",
              "    </tr>\n",
              "  </thead>\n",
              "  <tbody>\n",
              "    <tr>\n",
              "      <th>0</th>\n",
              "      <td>150540</td>\n",
              "      <td>Inside Out</td>\n",
              "      <td>7.922</td>\n",
              "      <td>19463</td>\n",
              "      <td>Released</td>\n",
              "      <td>2015-06-09</td>\n",
              "      <td>857611174</td>\n",
              "      <td>95</td>\n",
              "      <td>False</td>\n",
              "      <td>/j29ekbcLpBvxnGk6LjdTc2EI5SA.jpg</td>\n",
              "      <td>...</td>\n",
              "      <td>en</td>\n",
              "      <td>Inside Out</td>\n",
              "      <td>Growing up can be a bumpy road, and it's no ex...</td>\n",
              "      <td>107.292</td>\n",
              "      <td>/2H1TmgdfNtsKlU9jKdeNyYL5y8T.jpg</td>\n",
              "      <td>Meet the little voices inside your head.</td>\n",
              "      <td>Animation, Family, Adventure, Drama, Comedy</td>\n",
              "      <td>Pixar, Walt Disney Pictures</td>\n",
              "      <td>United States of America</td>\n",
              "      <td>English</td>\n",
              "    </tr>\n",
              "    <tr>\n",
              "      <th>1</th>\n",
              "      <td>14160</td>\n",
              "      <td>Up</td>\n",
              "      <td>7.949</td>\n",
              "      <td>18857</td>\n",
              "      <td>Released</td>\n",
              "      <td>2009-05-28</td>\n",
              "      <td>735099082</td>\n",
              "      <td>96</td>\n",
              "      <td>False</td>\n",
              "      <td>/hGGC9gKo7CFE3fW07RA587e5kol.jpg</td>\n",
              "      <td>...</td>\n",
              "      <td>en</td>\n",
              "      <td>Up</td>\n",
              "      <td>Carl Fredricksen spent his entire life dreamin...</td>\n",
              "      <td>90.968</td>\n",
              "      <td>/vpbaStTMt8qqXaEgnOR2EE4DNJk.jpg</td>\n",
              "      <td>The greatest adventure is just getting back home.</td>\n",
              "      <td>Animation, Comedy, Family, Adventure</td>\n",
              "      <td>Pixar</td>\n",
              "      <td>United States of America</td>\n",
              "      <td>English</td>\n",
              "    </tr>\n",
              "    <tr>\n",
              "      <th>2</th>\n",
              "      <td>12</td>\n",
              "      <td>Finding Nemo</td>\n",
              "      <td>7.824</td>\n",
              "      <td>18061</td>\n",
              "      <td>Released</td>\n",
              "      <td>2003-05-30</td>\n",
              "      <td>940335536</td>\n",
              "      <td>100</td>\n",
              "      <td>False</td>\n",
              "      <td>/h3uqFk7sZRJvLZDdLiFB9qwbL07.jpg</td>\n",
              "      <td>...</td>\n",
              "      <td>en</td>\n",
              "      <td>Finding Nemo</td>\n",
              "      <td>Nemo, an adventurous young clownfish, is unexp...</td>\n",
              "      <td>55.456</td>\n",
              "      <td>/ggQ6o8X5984OCh3kZi2UIJQJY5y.jpg</td>\n",
              "      <td>There are 3.7 trillion fish in the ocean. They...</td>\n",
              "      <td>Animation, Family</td>\n",
              "      <td>Pixar</td>\n",
              "      <td>United States of America</td>\n",
              "      <td>English</td>\n",
              "    </tr>\n",
              "    <tr>\n",
              "      <th>3</th>\n",
              "      <td>354912</td>\n",
              "      <td>Coco</td>\n",
              "      <td>8.222</td>\n",
              "      <td>17742</td>\n",
              "      <td>Released</td>\n",
              "      <td>2017-10-27</td>\n",
              "      <td>800526015</td>\n",
              "      <td>105</td>\n",
              "      <td>False</td>\n",
              "      <td>/askg3SMvhqEl4OL52YuvdtY40Yb.jpg</td>\n",
              "      <td>...</td>\n",
              "      <td>en</td>\n",
              "      <td>Coco</td>\n",
              "      <td>Despite his family’s baffling generations-old ...</td>\n",
              "      <td>166.578</td>\n",
              "      <td>/gGEsBPAijhVUFoiNpgZXqRVWJt2.jpg</td>\n",
              "      <td>The celebration of a lifetime</td>\n",
              "      <td>Family, Animation, Fantasy, Music, Comedy, Adv...</td>\n",
              "      <td>Pixar, Walt Disney Pictures</td>\n",
              "      <td>United States of America</td>\n",
              "      <td>English, Spanish</td>\n",
              "    </tr>\n",
              "    <tr>\n",
              "      <th>4</th>\n",
              "      <td>10681</td>\n",
              "      <td>WALL·E</td>\n",
              "      <td>8.078</td>\n",
              "      <td>17446</td>\n",
              "      <td>Released</td>\n",
              "      <td>2008-06-22</td>\n",
              "      <td>521311860</td>\n",
              "      <td>98</td>\n",
              "      <td>False</td>\n",
              "      <td>/fK5ssgvtI43z19FoWigdlqgpLRE.jpg</td>\n",
              "      <td>...</td>\n",
              "      <td>en</td>\n",
              "      <td>WALL·E</td>\n",
              "      <td>What if mankind had to leave Earth and somebod...</td>\n",
              "      <td>58.517</td>\n",
              "      <td>/hbhFnRzzg6ZDmm8YAmxBnQpQIPh.jpg</td>\n",
              "      <td>After 700 years of doing what he was built for...</td>\n",
              "      <td>Animation, Family, Science Fiction</td>\n",
              "      <td>Pixar, Walt Disney Pictures</td>\n",
              "      <td>United States of America</td>\n",
              "      <td>English</td>\n",
              "    </tr>\n",
              "  </tbody>\n",
              "</table>\n",
              "<p>5 rows × 23 columns</p>\n",
              "</div>\n",
              "    <div class=\"colab-df-buttons\">\n",
              "\n",
              "  <div class=\"colab-df-container\">\n",
              "    <button class=\"colab-df-convert\" onclick=\"convertToInteractive('df-3f2e825c-f16d-46e6-a359-1daa0fe98385')\"\n",
              "            title=\"Convert this dataframe to an interactive table.\"\n",
              "            style=\"display:none;\">\n",
              "\n",
              "  <svg xmlns=\"http://www.w3.org/2000/svg\" height=\"24px\" viewBox=\"0 -960 960 960\">\n",
              "    <path d=\"M120-120v-720h720v720H120Zm60-500h600v-160H180v160Zm220 220h160v-160H400v160Zm0 220h160v-160H400v160ZM180-400h160v-160H180v160Zm440 0h160v-160H620v160ZM180-180h160v-160H180v160Zm440 0h160v-160H620v160Z\"/>\n",
              "  </svg>\n",
              "    </button>\n",
              "\n",
              "  <style>\n",
              "    .colab-df-container {\n",
              "      display:flex;\n",
              "      gap: 12px;\n",
              "    }\n",
              "\n",
              "    .colab-df-convert {\n",
              "      background-color: #E8F0FE;\n",
              "      border: none;\n",
              "      border-radius: 50%;\n",
              "      cursor: pointer;\n",
              "      display: none;\n",
              "      fill: #1967D2;\n",
              "      height: 32px;\n",
              "      padding: 0 0 0 0;\n",
              "      width: 32px;\n",
              "    }\n",
              "\n",
              "    .colab-df-convert:hover {\n",
              "      background-color: #E2EBFA;\n",
              "      box-shadow: 0px 1px 2px rgba(60, 64, 67, 0.3), 0px 1px 3px 1px rgba(60, 64, 67, 0.15);\n",
              "      fill: #174EA6;\n",
              "    }\n",
              "\n",
              "    .colab-df-buttons div {\n",
              "      margin-bottom: 4px;\n",
              "    }\n",
              "\n",
              "    [theme=dark] .colab-df-convert {\n",
              "      background-color: #3B4455;\n",
              "      fill: #D2E3FC;\n",
              "    }\n",
              "\n",
              "    [theme=dark] .colab-df-convert:hover {\n",
              "      background-color: #434B5C;\n",
              "      box-shadow: 0px 1px 3px 1px rgba(0, 0, 0, 0.15);\n",
              "      filter: drop-shadow(0px 1px 2px rgba(0, 0, 0, 0.3));\n",
              "      fill: #FFFFFF;\n",
              "    }\n",
              "  </style>\n",
              "\n",
              "    <script>\n",
              "      const buttonEl =\n",
              "        document.querySelector('#df-3f2e825c-f16d-46e6-a359-1daa0fe98385 button.colab-df-convert');\n",
              "      buttonEl.style.display =\n",
              "        google.colab.kernel.accessAllowed ? 'block' : 'none';\n",
              "\n",
              "      async function convertToInteractive(key) {\n",
              "        const element = document.querySelector('#df-3f2e825c-f16d-46e6-a359-1daa0fe98385');\n",
              "        const dataTable =\n",
              "          await google.colab.kernel.invokeFunction('convertToInteractive',\n",
              "                                                    [key], {});\n",
              "        if (!dataTable) return;\n",
              "\n",
              "        const docLinkHtml = 'Like what you see? Visit the ' +\n",
              "          '<a target=\"_blank\" href=https://colab.research.google.com/notebooks/data_table.ipynb>data table notebook</a>'\n",
              "          + ' to learn more about interactive tables.';\n",
              "        element.innerHTML = '';\n",
              "        dataTable['output_type'] = 'display_data';\n",
              "        await google.colab.output.renderOutput(dataTable, element);\n",
              "        const docLink = document.createElement('div');\n",
              "        docLink.innerHTML = docLinkHtml;\n",
              "        element.appendChild(docLink);\n",
              "      }\n",
              "    </script>\n",
              "  </div>\n",
              "\n",
              "\n",
              "<div id=\"df-3ae791f9-9201-4179-93ae-eaaf9c583afd\">\n",
              "  <button class=\"colab-df-quickchart\" onclick=\"quickchart('df-3ae791f9-9201-4179-93ae-eaaf9c583afd')\"\n",
              "            title=\"Suggest charts\"\n",
              "            style=\"display:none;\">\n",
              "\n",
              "<svg xmlns=\"http://www.w3.org/2000/svg\" height=\"24px\"viewBox=\"0 0 24 24\"\n",
              "     width=\"24px\">\n",
              "    <g>\n",
              "        <path d=\"M19 3H5c-1.1 0-2 .9-2 2v14c0 1.1.9 2 2 2h14c1.1 0 2-.9 2-2V5c0-1.1-.9-2-2-2zM9 17H7v-7h2v7zm4 0h-2V7h2v10zm4 0h-2v-4h2v4z\"/>\n",
              "    </g>\n",
              "</svg>\n",
              "  </button>\n",
              "\n",
              "<style>\n",
              "  .colab-df-quickchart {\n",
              "      --bg-color: #E8F0FE;\n",
              "      --fill-color: #1967D2;\n",
              "      --hover-bg-color: #E2EBFA;\n",
              "      --hover-fill-color: #174EA6;\n",
              "      --disabled-fill-color: #AAA;\n",
              "      --disabled-bg-color: #DDD;\n",
              "  }\n",
              "\n",
              "  [theme=dark] .colab-df-quickchart {\n",
              "      --bg-color: #3B4455;\n",
              "      --fill-color: #D2E3FC;\n",
              "      --hover-bg-color: #434B5C;\n",
              "      --hover-fill-color: #FFFFFF;\n",
              "      --disabled-bg-color: #3B4455;\n",
              "      --disabled-fill-color: #666;\n",
              "  }\n",
              "\n",
              "  .colab-df-quickchart {\n",
              "    background-color: var(--bg-color);\n",
              "    border: none;\n",
              "    border-radius: 50%;\n",
              "    cursor: pointer;\n",
              "    display: none;\n",
              "    fill: var(--fill-color);\n",
              "    height: 32px;\n",
              "    padding: 0;\n",
              "    width: 32px;\n",
              "  }\n",
              "\n",
              "  .colab-df-quickchart:hover {\n",
              "    background-color: var(--hover-bg-color);\n",
              "    box-shadow: 0 1px 2px rgba(60, 64, 67, 0.3), 0 1px 3px 1px rgba(60, 64, 67, 0.15);\n",
              "    fill: var(--button-hover-fill-color);\n",
              "  }\n",
              "\n",
              "  .colab-df-quickchart-complete:disabled,\n",
              "  .colab-df-quickchart-complete:disabled:hover {\n",
              "    background-color: var(--disabled-bg-color);\n",
              "    fill: var(--disabled-fill-color);\n",
              "    box-shadow: none;\n",
              "  }\n",
              "\n",
              "  .colab-df-spinner {\n",
              "    border: 2px solid var(--fill-color);\n",
              "    border-color: transparent;\n",
              "    border-bottom-color: var(--fill-color);\n",
              "    animation:\n",
              "      spin 1s steps(1) infinite;\n",
              "  }\n",
              "\n",
              "  @keyframes spin {\n",
              "    0% {\n",
              "      border-color: transparent;\n",
              "      border-bottom-color: var(--fill-color);\n",
              "      border-left-color: var(--fill-color);\n",
              "    }\n",
              "    20% {\n",
              "      border-color: transparent;\n",
              "      border-left-color: var(--fill-color);\n",
              "      border-top-color: var(--fill-color);\n",
              "    }\n",
              "    30% {\n",
              "      border-color: transparent;\n",
              "      border-left-color: var(--fill-color);\n",
              "      border-top-color: var(--fill-color);\n",
              "      border-right-color: var(--fill-color);\n",
              "    }\n",
              "    40% {\n",
              "      border-color: transparent;\n",
              "      border-right-color: var(--fill-color);\n",
              "      border-top-color: var(--fill-color);\n",
              "    }\n",
              "    60% {\n",
              "      border-color: transparent;\n",
              "      border-right-color: var(--fill-color);\n",
              "    }\n",
              "    80% {\n",
              "      border-color: transparent;\n",
              "      border-right-color: var(--fill-color);\n",
              "      border-bottom-color: var(--fill-color);\n",
              "    }\n",
              "    90% {\n",
              "      border-color: transparent;\n",
              "      border-bottom-color: var(--fill-color);\n",
              "    }\n",
              "  }\n",
              "</style>\n",
              "\n",
              "  <script>\n",
              "    async function quickchart(key) {\n",
              "      const quickchartButtonEl =\n",
              "        document.querySelector('#' + key + ' button');\n",
              "      quickchartButtonEl.disabled = true;  // To prevent multiple clicks.\n",
              "      quickchartButtonEl.classList.add('colab-df-spinner');\n",
              "      try {\n",
              "        const charts = await google.colab.kernel.invokeFunction(\n",
              "            'suggestCharts', [key], {});\n",
              "      } catch (error) {\n",
              "        console.error('Error during call to suggestCharts:', error);\n",
              "      }\n",
              "      quickchartButtonEl.classList.remove('colab-df-spinner');\n",
              "      quickchartButtonEl.classList.add('colab-df-quickchart-complete');\n",
              "    }\n",
              "    (() => {\n",
              "      let quickchartButtonEl =\n",
              "        document.querySelector('#df-3ae791f9-9201-4179-93ae-eaaf9c583afd button');\n",
              "      quickchartButtonEl.style.display =\n",
              "        google.colab.kernel.accessAllowed ? 'block' : 'none';\n",
              "    })();\n",
              "  </script>\n",
              "</div>\n",
              "\n",
              "    </div>\n",
              "  </div>\n"
            ],
            "application/vnd.google.colaboratory.intrinsic+json": {
              "type": "dataframe",
              "variable_name": "df"
            }
          },
          "metadata": {},
          "execution_count": 144
        }
      ]
    },
    {
      "cell_type": "code",
      "source": [
        "df.info()"
      ],
      "metadata": {
        "collapsed": true,
        "id": "1RF7lIKrzBf-",
        "colab": {
          "base_uri": "https://localhost:8080/"
        },
        "outputId": "9f3fcd25-5daa-4dcd-de76-0f9125a84487"
      },
      "execution_count": 145,
      "outputs": [
        {
          "output_type": "stream",
          "name": "stdout",
          "text": [
            "<class 'pandas.core.frame.DataFrame'>\n",
            "RangeIndex: 51945 entries, 0 to 51944\n",
            "Data columns (total 23 columns):\n",
            " #   Column                Non-Null Count  Dtype  \n",
            "---  ------                --------------  -----  \n",
            " 0   id                    51945 non-null  int64  \n",
            " 1   title                 51944 non-null  object \n",
            " 2   vote_average          51945 non-null  float64\n",
            " 3   vote_count            51945 non-null  int64  \n",
            " 4   status                51945 non-null  object \n",
            " 5   release_date          49808 non-null  object \n",
            " 6   revenue               51945 non-null  int64  \n",
            " 7   runtime               51945 non-null  int64  \n",
            " 8   adult                 51945 non-null  bool   \n",
            " 9   backdrop_path         15835 non-null  object \n",
            " 10  budget                51945 non-null  int64  \n",
            " 11  homepage              8253 non-null   object \n",
            " 12  imdb_id               29552 non-null  object \n",
            " 13  original_language     51945 non-null  object \n",
            " 14  original_title        51944 non-null  object \n",
            " 15  overview              45866 non-null  object \n",
            " 16  popularity            51945 non-null  float64\n",
            " 17  poster_path           37934 non-null  object \n",
            " 18  tagline               4678 non-null   object \n",
            " 19  genres                51945 non-null  object \n",
            " 20  production_companies  29398 non-null  object \n",
            " 21  production_countries  39700 non-null  object \n",
            " 22  spoken_languages      33818 non-null  object \n",
            "dtypes: bool(1), float64(2), int64(5), object(15)\n",
            "memory usage: 8.8+ MB\n"
          ]
        }
      ]
    },
    {
      "cell_type": "code",
      "source": [
        "print(\"\\nValores nulos por columna:\")\n",
        "print(df.isnull().sum())"
      ],
      "metadata": {
        "collapsed": true,
        "id": "l5Ok4mWBzDMW",
        "colab": {
          "base_uri": "https://localhost:8080/"
        },
        "outputId": "58d9ce65-9a0f-44d3-c05f-67d5b2c7dc83"
      },
      "execution_count": 146,
      "outputs": [
        {
          "output_type": "stream",
          "name": "stdout",
          "text": [
            "\n",
            "Valores nulos por columna:\n",
            "id                          0\n",
            "title                       1\n",
            "vote_average                0\n",
            "vote_count                  0\n",
            "status                      0\n",
            "release_date             2137\n",
            "revenue                     0\n",
            "runtime                     0\n",
            "adult                       0\n",
            "backdrop_path           36110\n",
            "budget                      0\n",
            "homepage                43692\n",
            "imdb_id                 22393\n",
            "original_language           0\n",
            "original_title              1\n",
            "overview                 6079\n",
            "popularity                  0\n",
            "poster_path             14011\n",
            "tagline                 47267\n",
            "genres                      0\n",
            "production_companies    22547\n",
            "production_countries    12245\n",
            "spoken_languages        18127\n",
            "dtype: int64\n"
          ]
        }
      ]
    },
    {
      "cell_type": "code",
      "source": [
        "print(df.columns)"
      ],
      "metadata": {
        "collapsed": true,
        "id": "R3zcOwoWzH6h",
        "colab": {
          "base_uri": "https://localhost:8080/"
        },
        "outputId": "9a43001d-cf5a-4fa0-bc09-9fd2026b155a"
      },
      "execution_count": 147,
      "outputs": [
        {
          "output_type": "stream",
          "name": "stdout",
          "text": [
            "Index(['id', 'title', 'vote_average', 'vote_count', 'status', 'release_date',\n",
            "       'revenue', 'runtime', 'adult', 'backdrop_path', 'budget', 'homepage',\n",
            "       'imdb_id', 'original_language', 'original_title', 'overview',\n",
            "       'popularity', 'poster_path', 'tagline', 'genres',\n",
            "       'production_companies', 'production_countries', 'spoken_languages'],\n",
            "      dtype='object')\n"
          ]
        }
      ]
    },
    {
      "cell_type": "code",
      "source": [
        "# Tamaño del dataset\n",
        "print(f\"Filas y columnas: {df.shape}\")"
      ],
      "metadata": {
        "colab": {
          "base_uri": "https://localhost:8080/"
        },
        "collapsed": true,
        "id": "g3UmzczhmT5K",
        "outputId": "8fa8b002-3bae-4c66-8c7e-2e83f5b7373c"
      },
      "execution_count": 148,
      "outputs": [
        {
          "output_type": "stream",
          "name": "stdout",
          "text": [
            "Filas y columnas: (51945, 23)\n"
          ]
        }
      ]
    },
    {
      "cell_type": "code",
      "source": [
        "# 1 si revenue(ganancias) > budget(presupuesto), 0 si no\n",
        "df[\"exito_taquilla\"] = (df[\"revenue\"] > df[\"budget\"]).astype(int)\n",
        "\n",
        "df[\"exito_taquilla\"].value_counts()"
      ],
      "metadata": {
        "id": "btgK9mT1zUeP",
        "collapsed": true,
        "colab": {
          "base_uri": "https://localhost:8080/",
          "height": 178
        },
        "outputId": "eeb02a37-45bb-4a47-b41a-eaee00596082"
      },
      "execution_count": 149,
      "outputs": [
        {
          "output_type": "execute_result",
          "data": {
            "text/plain": [
              "exito_taquilla\n",
              "0    51093\n",
              "1      852\n",
              "Name: count, dtype: int64"
            ],
            "text/html": [
              "<div>\n",
              "<style scoped>\n",
              "    .dataframe tbody tr th:only-of-type {\n",
              "        vertical-align: middle;\n",
              "    }\n",
              "\n",
              "    .dataframe tbody tr th {\n",
              "        vertical-align: top;\n",
              "    }\n",
              "\n",
              "    .dataframe thead th {\n",
              "        text-align: right;\n",
              "    }\n",
              "</style>\n",
              "<table border=\"1\" class=\"dataframe\">\n",
              "  <thead>\n",
              "    <tr style=\"text-align: right;\">\n",
              "      <th></th>\n",
              "      <th>count</th>\n",
              "    </tr>\n",
              "    <tr>\n",
              "      <th>exito_taquilla</th>\n",
              "      <th></th>\n",
              "    </tr>\n",
              "  </thead>\n",
              "  <tbody>\n",
              "    <tr>\n",
              "      <th>0</th>\n",
              "      <td>51093</td>\n",
              "    </tr>\n",
              "    <tr>\n",
              "      <th>1</th>\n",
              "      <td>852</td>\n",
              "    </tr>\n",
              "  </tbody>\n",
              "</table>\n",
              "</div><br><label><b>dtype:</b> int64</label>"
            ]
          },
          "metadata": {},
          "execution_count": 149
        }
      ]
    },
    {
      "cell_type": "code",
      "source": [
        "# Modelo= presupuesto, duración, id, popularidad, géneros,\n",
        "# recuento votos y exito taquilla\n",
        "df_model = df[[\"budget\", \"runtime\", \"vote_average\", \"popularity\", \"genres\", \"vote_count\", \"exito_taquilla\"]]\n",
        "df_model = df_model.dropna()\n",
        "\n",
        "print(\"Nuevas dimensiones después de limpieza:\", df_model.shape)"
      ],
      "metadata": {
        "id": "-r2KeQp_z3dG",
        "colab": {
          "base_uri": "https://localhost:8080/"
        },
        "outputId": "df47c194-855d-43ca-b30d-25dc650f8909"
      },
      "execution_count": 150,
      "outputs": [
        {
          "output_type": "stream",
          "name": "stdout",
          "text": [
            "Nuevas dimensiones después de limpieza: (51945, 7)\n"
          ]
        }
      ]
    },
    {
      "cell_type": "code",
      "source": [
        "df_model = df[[\"budget\", \"runtime\", \"vote_average\", \"genres\", \"popularity\", \"vote_count\", \"exito_taquilla\"]].dropna()\n",
        "\n",
        "# Codificar 'genres' y 'popularity'\n",
        "le_genre = LabelEncoder()\n",
        "le_popularity = LabelEncoder()\n",
        "\n",
        "df_model[\"genres\"] = le_genre.fit_transform(df_model[\"genres\"])\n",
        "df_model[\"popularity\"] = le_popularity.fit_transform(df_model[\"popularity\"])"
      ],
      "metadata": {
        "id": "odgvflb1-Yp4"
      },
      "execution_count": 151,
      "outputs": []
    },
    {
      "cell_type": "markdown",
      "source": [
        "# **2. División del dataset**"
      ],
      "metadata": {
        "id": "yQG2ox_en64q"
      }
    },
    {
      "cell_type": "code",
      "source": [
        "# Definir X e y\n",
        "features = [\"budget\", \"runtime\", \"vote_average\", \"genres\", \"popularity\", \"vote_count\"]\n",
        "X = df_model[features].values\n",
        "y = df_model[\"exito_taquilla\"].values\n",
        "\n",
        "print(\"Forma de X:\", X.shape)\n",
        "print(\"Forma de y:\", y.shape)\n"
      ],
      "metadata": {
        "colab": {
          "base_uri": "https://localhost:8080/"
        },
        "id": "6a4Ch_zV30JP",
        "outputId": "8acb7db8-672c-4a8c-81cb-61a09f58870f"
      },
      "execution_count": 152,
      "outputs": [
        {
          "output_type": "stream",
          "name": "stdout",
          "text": [
            "Forma de X: (51945, 6)\n",
            "Forma de y: (51945,)\n"
          ]
        }
      ]
    },
    {
      "cell_type": "code",
      "source": [
        "from sklearn.model_selection import train_test_split\n",
        "\n",
        "# División 80% entrenamiento, 20% prueba\n",
        "X_train, X_test, y_train, y_test = train_test_split(X, y, test_size=0.2, random_state=42, stratify=y)\n",
        "\n",
        "print(\"Entrenamiento - X:\", X_train.shape)\n",
        "print(\"Entrenamiento - y:\", y_train.shape)\n",
        "print(\"Prueba - X:\", X_test.shape)\n",
        "print(\"Prueba - y:\", y_test.shape)"
      ],
      "metadata": {
        "colab": {
          "base_uri": "https://localhost:8080/"
        },
        "id": "oK7XjGkwMYWd",
        "outputId": "5140db61-5113-4459-c2f7-5ec3f2c5daf6"
      },
      "execution_count": 153,
      "outputs": [
        {
          "output_type": "stream",
          "name": "stdout",
          "text": [
            "Entrenamiento - X: (41556, 6)\n",
            "Entrenamiento - y: (41556,)\n",
            "Prueba - X: (10389, 6)\n",
            "Prueba - y: (10389,)\n"
          ]
        }
      ]
    },
    {
      "cell_type": "code",
      "source": [
        "print(\"Distribución en y_train:\", np.bincount(y_train))\n",
        "print(\"Distribución en y_test:\", np.bincount(y_test))"
      ],
      "metadata": {
        "colab": {
          "base_uri": "https://localhost:8080/"
        },
        "id": "lUqHGcSYMoid",
        "outputId": "9e9f5fbd-26c5-470d-cf3a-dc8e945086c2"
      },
      "execution_count": 154,
      "outputs": [
        {
          "output_type": "stream",
          "name": "stdout",
          "text": [
            "Distribución en y_train: [40874   682]\n",
            "Distribución en y_test: [10219   170]\n"
          ]
        }
      ]
    },
    {
      "cell_type": "markdown",
      "source": [
        "# **3. Normalización de características**"
      ],
      "metadata": {
        "id": "Joe13yKJgPjR"
      }
    },
    {
      "cell_type": "code",
      "source": [
        "# Calcular media y desviación estándar con el conjunto de entrenamiento\n",
        "X_mean = X_train.mean(axis=0)\n",
        "X_std = X_train.std(axis=0)\n",
        "\n",
        "# Normalizar conjuntos\n",
        "X_train_norm = (X_train - X_mean) / X_std\n",
        "X_test_norm = (X_test - X_mean) / X_std\n",
        "\n",
        "# Comprobación\n",
        "print(\"Media (X_train_norm):\", X_train_norm.mean(axis=0))\n",
        "print(\"Desviación estándar (X_train_norm):\", X_train_norm.std(axis=0))"
      ],
      "metadata": {
        "colab": {
          "base_uri": "https://localhost:8080/"
        },
        "id": "oqVNTc0wEwrm",
        "outputId": "e62b2695-5831-4142-9aa9-7ee087470d31"
      },
      "execution_count": 155,
      "outputs": [
        {
          "output_type": "stream",
          "name": "stdout",
          "text": [
            "Media (X_train_norm): [-8.89989118e-16 -3.78766493e-16 -6.31824728e-16 -4.96373031e-16\n",
            "  1.27304425e-15 -1.29884085e-15]\n",
            "Desviación estándar (X_train_norm): [1. 1. 1. 1. 1. 1.]\n"
          ]
        }
      ]
    },
    {
      "cell_type": "markdown",
      "source": [
        "# **4. Implementación del Modelo**"
      ],
      "metadata": {
        "id": "fSOZAGrNoG1D"
      }
    },
    {
      "cell_type": "code",
      "source": [
        "from sklearn.linear_model import LogisticRegression\n",
        "\n",
        "# Crear el modelo\n",
        "modelo_logistico = LogisticRegression(max_iter=1000, random_state=42)"
      ],
      "metadata": {
        "id": "HOZj4AFJoM-a"
      },
      "execution_count": 156,
      "outputs": []
    },
    {
      "cell_type": "code",
      "source": [
        "# Entrenar con los datos normalizados\n",
        "modelo_logistico.fit(X_train_norm, y_train)"
      ],
      "metadata": {
        "colab": {
          "base_uri": "https://localhost:8080/",
          "height": 80
        },
        "id": "hW49az7UNCqn",
        "outputId": "99669f14-d435-45b8-e42c-5531c70ffbef"
      },
      "execution_count": 157,
      "outputs": [
        {
          "output_type": "execute_result",
          "data": {
            "text/plain": [
              "LogisticRegression(max_iter=1000, random_state=42)"
            ],
            "text/html": [
              "<style>#sk-container-id-3 {\n",
              "  /* Definition of color scheme common for light and dark mode */\n",
              "  --sklearn-color-text: #000;\n",
              "  --sklearn-color-text-muted: #666;\n",
              "  --sklearn-color-line: gray;\n",
              "  /* Definition of color scheme for unfitted estimators */\n",
              "  --sklearn-color-unfitted-level-0: #fff5e6;\n",
              "  --sklearn-color-unfitted-level-1: #f6e4d2;\n",
              "  --sklearn-color-unfitted-level-2: #ffe0b3;\n",
              "  --sklearn-color-unfitted-level-3: chocolate;\n",
              "  /* Definition of color scheme for fitted estimators */\n",
              "  --sklearn-color-fitted-level-0: #f0f8ff;\n",
              "  --sklearn-color-fitted-level-1: #d4ebff;\n",
              "  --sklearn-color-fitted-level-2: #b3dbfd;\n",
              "  --sklearn-color-fitted-level-3: cornflowerblue;\n",
              "\n",
              "  /* Specific color for light theme */\n",
              "  --sklearn-color-text-on-default-background: var(--sg-text-color, var(--theme-code-foreground, var(--jp-content-font-color1, black)));\n",
              "  --sklearn-color-background: var(--sg-background-color, var(--theme-background, var(--jp-layout-color0, white)));\n",
              "  --sklearn-color-border-box: var(--sg-text-color, var(--theme-code-foreground, var(--jp-content-font-color1, black)));\n",
              "  --sklearn-color-icon: #696969;\n",
              "\n",
              "  @media (prefers-color-scheme: dark) {\n",
              "    /* Redefinition of color scheme for dark theme */\n",
              "    --sklearn-color-text-on-default-background: var(--sg-text-color, var(--theme-code-foreground, var(--jp-content-font-color1, white)));\n",
              "    --sklearn-color-background: var(--sg-background-color, var(--theme-background, var(--jp-layout-color0, #111)));\n",
              "    --sklearn-color-border-box: var(--sg-text-color, var(--theme-code-foreground, var(--jp-content-font-color1, white)));\n",
              "    --sklearn-color-icon: #878787;\n",
              "  }\n",
              "}\n",
              "\n",
              "#sk-container-id-3 {\n",
              "  color: var(--sklearn-color-text);\n",
              "}\n",
              "\n",
              "#sk-container-id-3 pre {\n",
              "  padding: 0;\n",
              "}\n",
              "\n",
              "#sk-container-id-3 input.sk-hidden--visually {\n",
              "  border: 0;\n",
              "  clip: rect(1px 1px 1px 1px);\n",
              "  clip: rect(1px, 1px, 1px, 1px);\n",
              "  height: 1px;\n",
              "  margin: -1px;\n",
              "  overflow: hidden;\n",
              "  padding: 0;\n",
              "  position: absolute;\n",
              "  width: 1px;\n",
              "}\n",
              "\n",
              "#sk-container-id-3 div.sk-dashed-wrapped {\n",
              "  border: 1px dashed var(--sklearn-color-line);\n",
              "  margin: 0 0.4em 0.5em 0.4em;\n",
              "  box-sizing: border-box;\n",
              "  padding-bottom: 0.4em;\n",
              "  background-color: var(--sklearn-color-background);\n",
              "}\n",
              "\n",
              "#sk-container-id-3 div.sk-container {\n",
              "  /* jupyter's `normalize.less` sets `[hidden] { display: none; }`\n",
              "     but bootstrap.min.css set `[hidden] { display: none !important; }`\n",
              "     so we also need the `!important` here to be able to override the\n",
              "     default hidden behavior on the sphinx rendered scikit-learn.org.\n",
              "     See: https://github.com/scikit-learn/scikit-learn/issues/21755 */\n",
              "  display: inline-block !important;\n",
              "  position: relative;\n",
              "}\n",
              "\n",
              "#sk-container-id-3 div.sk-text-repr-fallback {\n",
              "  display: none;\n",
              "}\n",
              "\n",
              "div.sk-parallel-item,\n",
              "div.sk-serial,\n",
              "div.sk-item {\n",
              "  /* draw centered vertical line to link estimators */\n",
              "  background-image: linear-gradient(var(--sklearn-color-text-on-default-background), var(--sklearn-color-text-on-default-background));\n",
              "  background-size: 2px 100%;\n",
              "  background-repeat: no-repeat;\n",
              "  background-position: center center;\n",
              "}\n",
              "\n",
              "/* Parallel-specific style estimator block */\n",
              "\n",
              "#sk-container-id-3 div.sk-parallel-item::after {\n",
              "  content: \"\";\n",
              "  width: 100%;\n",
              "  border-bottom: 2px solid var(--sklearn-color-text-on-default-background);\n",
              "  flex-grow: 1;\n",
              "}\n",
              "\n",
              "#sk-container-id-3 div.sk-parallel {\n",
              "  display: flex;\n",
              "  align-items: stretch;\n",
              "  justify-content: center;\n",
              "  background-color: var(--sklearn-color-background);\n",
              "  position: relative;\n",
              "}\n",
              "\n",
              "#sk-container-id-3 div.sk-parallel-item {\n",
              "  display: flex;\n",
              "  flex-direction: column;\n",
              "}\n",
              "\n",
              "#sk-container-id-3 div.sk-parallel-item:first-child::after {\n",
              "  align-self: flex-end;\n",
              "  width: 50%;\n",
              "}\n",
              "\n",
              "#sk-container-id-3 div.sk-parallel-item:last-child::after {\n",
              "  align-self: flex-start;\n",
              "  width: 50%;\n",
              "}\n",
              "\n",
              "#sk-container-id-3 div.sk-parallel-item:only-child::after {\n",
              "  width: 0;\n",
              "}\n",
              "\n",
              "/* Serial-specific style estimator block */\n",
              "\n",
              "#sk-container-id-3 div.sk-serial {\n",
              "  display: flex;\n",
              "  flex-direction: column;\n",
              "  align-items: center;\n",
              "  background-color: var(--sklearn-color-background);\n",
              "  padding-right: 1em;\n",
              "  padding-left: 1em;\n",
              "}\n",
              "\n",
              "\n",
              "/* Toggleable style: style used for estimator/Pipeline/ColumnTransformer box that is\n",
              "clickable and can be expanded/collapsed.\n",
              "- Pipeline and ColumnTransformer use this feature and define the default style\n",
              "- Estimators will overwrite some part of the style using the `sk-estimator` class\n",
              "*/\n",
              "\n",
              "/* Pipeline and ColumnTransformer style (default) */\n",
              "\n",
              "#sk-container-id-3 div.sk-toggleable {\n",
              "  /* Default theme specific background. It is overwritten whether we have a\n",
              "  specific estimator or a Pipeline/ColumnTransformer */\n",
              "  background-color: var(--sklearn-color-background);\n",
              "}\n",
              "\n",
              "/* Toggleable label */\n",
              "#sk-container-id-3 label.sk-toggleable__label {\n",
              "  cursor: pointer;\n",
              "  display: flex;\n",
              "  width: 100%;\n",
              "  margin-bottom: 0;\n",
              "  padding: 0.5em;\n",
              "  box-sizing: border-box;\n",
              "  text-align: center;\n",
              "  align-items: start;\n",
              "  justify-content: space-between;\n",
              "  gap: 0.5em;\n",
              "}\n",
              "\n",
              "#sk-container-id-3 label.sk-toggleable__label .caption {\n",
              "  font-size: 0.6rem;\n",
              "  font-weight: lighter;\n",
              "  color: var(--sklearn-color-text-muted);\n",
              "}\n",
              "\n",
              "#sk-container-id-3 label.sk-toggleable__label-arrow:before {\n",
              "  /* Arrow on the left of the label */\n",
              "  content: \"▸\";\n",
              "  float: left;\n",
              "  margin-right: 0.25em;\n",
              "  color: var(--sklearn-color-icon);\n",
              "}\n",
              "\n",
              "#sk-container-id-3 label.sk-toggleable__label-arrow:hover:before {\n",
              "  color: var(--sklearn-color-text);\n",
              "}\n",
              "\n",
              "/* Toggleable content - dropdown */\n",
              "\n",
              "#sk-container-id-3 div.sk-toggleable__content {\n",
              "  max-height: 0;\n",
              "  max-width: 0;\n",
              "  overflow: hidden;\n",
              "  text-align: left;\n",
              "  /* unfitted */\n",
              "  background-color: var(--sklearn-color-unfitted-level-0);\n",
              "}\n",
              "\n",
              "#sk-container-id-3 div.sk-toggleable__content.fitted {\n",
              "  /* fitted */\n",
              "  background-color: var(--sklearn-color-fitted-level-0);\n",
              "}\n",
              "\n",
              "#sk-container-id-3 div.sk-toggleable__content pre {\n",
              "  margin: 0.2em;\n",
              "  border-radius: 0.25em;\n",
              "  color: var(--sklearn-color-text);\n",
              "  /* unfitted */\n",
              "  background-color: var(--sklearn-color-unfitted-level-0);\n",
              "}\n",
              "\n",
              "#sk-container-id-3 div.sk-toggleable__content.fitted pre {\n",
              "  /* unfitted */\n",
              "  background-color: var(--sklearn-color-fitted-level-0);\n",
              "}\n",
              "\n",
              "#sk-container-id-3 input.sk-toggleable__control:checked~div.sk-toggleable__content {\n",
              "  /* Expand drop-down */\n",
              "  max-height: 200px;\n",
              "  max-width: 100%;\n",
              "  overflow: auto;\n",
              "}\n",
              "\n",
              "#sk-container-id-3 input.sk-toggleable__control:checked~label.sk-toggleable__label-arrow:before {\n",
              "  content: \"▾\";\n",
              "}\n",
              "\n",
              "/* Pipeline/ColumnTransformer-specific style */\n",
              "\n",
              "#sk-container-id-3 div.sk-label input.sk-toggleable__control:checked~label.sk-toggleable__label {\n",
              "  color: var(--sklearn-color-text);\n",
              "  background-color: var(--sklearn-color-unfitted-level-2);\n",
              "}\n",
              "\n",
              "#sk-container-id-3 div.sk-label.fitted input.sk-toggleable__control:checked~label.sk-toggleable__label {\n",
              "  background-color: var(--sklearn-color-fitted-level-2);\n",
              "}\n",
              "\n",
              "/* Estimator-specific style */\n",
              "\n",
              "/* Colorize estimator box */\n",
              "#sk-container-id-3 div.sk-estimator input.sk-toggleable__control:checked~label.sk-toggleable__label {\n",
              "  /* unfitted */\n",
              "  background-color: var(--sklearn-color-unfitted-level-2);\n",
              "}\n",
              "\n",
              "#sk-container-id-3 div.sk-estimator.fitted input.sk-toggleable__control:checked~label.sk-toggleable__label {\n",
              "  /* fitted */\n",
              "  background-color: var(--sklearn-color-fitted-level-2);\n",
              "}\n",
              "\n",
              "#sk-container-id-3 div.sk-label label.sk-toggleable__label,\n",
              "#sk-container-id-3 div.sk-label label {\n",
              "  /* The background is the default theme color */\n",
              "  color: var(--sklearn-color-text-on-default-background);\n",
              "}\n",
              "\n",
              "/* On hover, darken the color of the background */\n",
              "#sk-container-id-3 div.sk-label:hover label.sk-toggleable__label {\n",
              "  color: var(--sklearn-color-text);\n",
              "  background-color: var(--sklearn-color-unfitted-level-2);\n",
              "}\n",
              "\n",
              "/* Label box, darken color on hover, fitted */\n",
              "#sk-container-id-3 div.sk-label.fitted:hover label.sk-toggleable__label.fitted {\n",
              "  color: var(--sklearn-color-text);\n",
              "  background-color: var(--sklearn-color-fitted-level-2);\n",
              "}\n",
              "\n",
              "/* Estimator label */\n",
              "\n",
              "#sk-container-id-3 div.sk-label label {\n",
              "  font-family: monospace;\n",
              "  font-weight: bold;\n",
              "  display: inline-block;\n",
              "  line-height: 1.2em;\n",
              "}\n",
              "\n",
              "#sk-container-id-3 div.sk-label-container {\n",
              "  text-align: center;\n",
              "}\n",
              "\n",
              "/* Estimator-specific */\n",
              "#sk-container-id-3 div.sk-estimator {\n",
              "  font-family: monospace;\n",
              "  border: 1px dotted var(--sklearn-color-border-box);\n",
              "  border-radius: 0.25em;\n",
              "  box-sizing: border-box;\n",
              "  margin-bottom: 0.5em;\n",
              "  /* unfitted */\n",
              "  background-color: var(--sklearn-color-unfitted-level-0);\n",
              "}\n",
              "\n",
              "#sk-container-id-3 div.sk-estimator.fitted {\n",
              "  /* fitted */\n",
              "  background-color: var(--sklearn-color-fitted-level-0);\n",
              "}\n",
              "\n",
              "/* on hover */\n",
              "#sk-container-id-3 div.sk-estimator:hover {\n",
              "  /* unfitted */\n",
              "  background-color: var(--sklearn-color-unfitted-level-2);\n",
              "}\n",
              "\n",
              "#sk-container-id-3 div.sk-estimator.fitted:hover {\n",
              "  /* fitted */\n",
              "  background-color: var(--sklearn-color-fitted-level-2);\n",
              "}\n",
              "\n",
              "/* Specification for estimator info (e.g. \"i\" and \"?\") */\n",
              "\n",
              "/* Common style for \"i\" and \"?\" */\n",
              "\n",
              ".sk-estimator-doc-link,\n",
              "a:link.sk-estimator-doc-link,\n",
              "a:visited.sk-estimator-doc-link {\n",
              "  float: right;\n",
              "  font-size: smaller;\n",
              "  line-height: 1em;\n",
              "  font-family: monospace;\n",
              "  background-color: var(--sklearn-color-background);\n",
              "  border-radius: 1em;\n",
              "  height: 1em;\n",
              "  width: 1em;\n",
              "  text-decoration: none !important;\n",
              "  margin-left: 0.5em;\n",
              "  text-align: center;\n",
              "  /* unfitted */\n",
              "  border: var(--sklearn-color-unfitted-level-1) 1pt solid;\n",
              "  color: var(--sklearn-color-unfitted-level-1);\n",
              "}\n",
              "\n",
              ".sk-estimator-doc-link.fitted,\n",
              "a:link.sk-estimator-doc-link.fitted,\n",
              "a:visited.sk-estimator-doc-link.fitted {\n",
              "  /* fitted */\n",
              "  border: var(--sklearn-color-fitted-level-1) 1pt solid;\n",
              "  color: var(--sklearn-color-fitted-level-1);\n",
              "}\n",
              "\n",
              "/* On hover */\n",
              "div.sk-estimator:hover .sk-estimator-doc-link:hover,\n",
              ".sk-estimator-doc-link:hover,\n",
              "div.sk-label-container:hover .sk-estimator-doc-link:hover,\n",
              ".sk-estimator-doc-link:hover {\n",
              "  /* unfitted */\n",
              "  background-color: var(--sklearn-color-unfitted-level-3);\n",
              "  color: var(--sklearn-color-background);\n",
              "  text-decoration: none;\n",
              "}\n",
              "\n",
              "div.sk-estimator.fitted:hover .sk-estimator-doc-link.fitted:hover,\n",
              ".sk-estimator-doc-link.fitted:hover,\n",
              "div.sk-label-container:hover .sk-estimator-doc-link.fitted:hover,\n",
              ".sk-estimator-doc-link.fitted:hover {\n",
              "  /* fitted */\n",
              "  background-color: var(--sklearn-color-fitted-level-3);\n",
              "  color: var(--sklearn-color-background);\n",
              "  text-decoration: none;\n",
              "}\n",
              "\n",
              "/* Span, style for the box shown on hovering the info icon */\n",
              ".sk-estimator-doc-link span {\n",
              "  display: none;\n",
              "  z-index: 9999;\n",
              "  position: relative;\n",
              "  font-weight: normal;\n",
              "  right: .2ex;\n",
              "  padding: .5ex;\n",
              "  margin: .5ex;\n",
              "  width: min-content;\n",
              "  min-width: 20ex;\n",
              "  max-width: 50ex;\n",
              "  color: var(--sklearn-color-text);\n",
              "  box-shadow: 2pt 2pt 4pt #999;\n",
              "  /* unfitted */\n",
              "  background: var(--sklearn-color-unfitted-level-0);\n",
              "  border: .5pt solid var(--sklearn-color-unfitted-level-3);\n",
              "}\n",
              "\n",
              ".sk-estimator-doc-link.fitted span {\n",
              "  /* fitted */\n",
              "  background: var(--sklearn-color-fitted-level-0);\n",
              "  border: var(--sklearn-color-fitted-level-3);\n",
              "}\n",
              "\n",
              ".sk-estimator-doc-link:hover span {\n",
              "  display: block;\n",
              "}\n",
              "\n",
              "/* \"?\"-specific style due to the `<a>` HTML tag */\n",
              "\n",
              "#sk-container-id-3 a.estimator_doc_link {\n",
              "  float: right;\n",
              "  font-size: 1rem;\n",
              "  line-height: 1em;\n",
              "  font-family: monospace;\n",
              "  background-color: var(--sklearn-color-background);\n",
              "  border-radius: 1rem;\n",
              "  height: 1rem;\n",
              "  width: 1rem;\n",
              "  text-decoration: none;\n",
              "  /* unfitted */\n",
              "  color: var(--sklearn-color-unfitted-level-1);\n",
              "  border: var(--sklearn-color-unfitted-level-1) 1pt solid;\n",
              "}\n",
              "\n",
              "#sk-container-id-3 a.estimator_doc_link.fitted {\n",
              "  /* fitted */\n",
              "  border: var(--sklearn-color-fitted-level-1) 1pt solid;\n",
              "  color: var(--sklearn-color-fitted-level-1);\n",
              "}\n",
              "\n",
              "/* On hover */\n",
              "#sk-container-id-3 a.estimator_doc_link:hover {\n",
              "  /* unfitted */\n",
              "  background-color: var(--sklearn-color-unfitted-level-3);\n",
              "  color: var(--sklearn-color-background);\n",
              "  text-decoration: none;\n",
              "}\n",
              "\n",
              "#sk-container-id-3 a.estimator_doc_link.fitted:hover {\n",
              "  /* fitted */\n",
              "  background-color: var(--sklearn-color-fitted-level-3);\n",
              "}\n",
              "</style><div id=\"sk-container-id-3\" class=\"sk-top-container\"><div class=\"sk-text-repr-fallback\"><pre>LogisticRegression(max_iter=1000, random_state=42)</pre><b>In a Jupyter environment, please rerun this cell to show the HTML representation or trust the notebook. <br />On GitHub, the HTML representation is unable to render, please try loading this page with nbviewer.org.</b></div><div class=\"sk-container\" hidden><div class=\"sk-item\"><div class=\"sk-estimator fitted sk-toggleable\"><input class=\"sk-toggleable__control sk-hidden--visually\" id=\"sk-estimator-id-3\" type=\"checkbox\" checked><label for=\"sk-estimator-id-3\" class=\"sk-toggleable__label fitted sk-toggleable__label-arrow\"><div><div>LogisticRegression</div></div><div><a class=\"sk-estimator-doc-link fitted\" rel=\"noreferrer\" target=\"_blank\" href=\"https://scikit-learn.org/1.6/modules/generated/sklearn.linear_model.LogisticRegression.html\">?<span>Documentation for LogisticRegression</span></a><span class=\"sk-estimator-doc-link fitted\">i<span>Fitted</span></span></div></label><div class=\"sk-toggleable__content fitted\"><pre>LogisticRegression(max_iter=1000, random_state=42)</pre></div> </div></div></div></div>"
            ]
          },
          "metadata": {},
          "execution_count": 157
        }
      ]
    },
    {
      "cell_type": "code",
      "source": [],
      "metadata": {
        "id": "xPF5-j6BP3t_"
      },
      "execution_count": 157,
      "outputs": []
    },
    {
      "cell_type": "code",
      "source": [
        "from sklearn.metrics import accuracy_score, confusion_matrix, classification_report\n",
        "\n",
        "# Predicciones\n",
        "y_train_pred = modelo_logistico.predict(X_train_norm)\n",
        "y_test_pred = modelo_logistico.predict(X_test_norm)\n",
        "\n",
        "# Precisión\n",
        "acc_train = accuracy_score(y_train, y_train_pred)\n",
        "acc_test = accuracy_score(y_test, y_test_pred)\n",
        "\n",
        "print(\"Precisión en entrenamiento:\", acc_train)\n",
        "print(\"Precisión en prueba:\", acc_test)\n",
        "\n",
        "# Matriz de confusión y reporte\n",
        "print(\"\\nMatriz de confusión (Test):\")\n",
        "print(confusion_matrix(y_test, y_test_pred))\n",
        "\n",
        "print(\"\\nReporte de clasificación (Test):\")\n",
        "print(classification_report(y_test, y_test_pred))"
      ],
      "metadata": {
        "colab": {
          "base_uri": "https://localhost:8080/"
        },
        "id": "A6vQlZULNGue",
        "outputId": "c0af0ec4-11b8-4768-f01d-23d71c26f5ed",
        "collapsed": true
      },
      "execution_count": 158,
      "outputs": [
        {
          "output_type": "stream",
          "name": "stdout",
          "text": [
            "Precisión en entrenamiento: 0.9871979978823756\n",
            "Precisión en prueba: 0.9865242082972374\n",
            "\n",
            "Matriz de confusión (Test):\n",
            "[[10206    13]\n",
            " [  127    43]]\n",
            "\n",
            "Reporte de clasificación (Test):\n",
            "              precision    recall  f1-score   support\n",
            "\n",
            "           0       0.99      1.00      0.99     10219\n",
            "           1       0.77      0.25      0.38       170\n",
            "\n",
            "    accuracy                           0.99     10389\n",
            "   macro avg       0.88      0.63      0.69     10389\n",
            "weighted avg       0.98      0.99      0.98     10389\n",
            "\n"
          ]
        }
      ]
    },
    {
      "cell_type": "markdown",
      "source": [
        "# **5. Modelo neuronal**"
      ],
      "metadata": {
        "id": "W7gwbKsmQds9"
      }
    },
    {
      "cell_type": "code",
      "source": [
        "#Ver si esta balanceado mis datos\n",
        "import numpy as np\n",
        "np.unique(y_train, return_counts=True)"
      ],
      "metadata": {
        "colab": {
          "base_uri": "https://localhost:8080/"
        },
        "id": "NUB4hD4Cvk4-",
        "outputId": "1740eaa4-f9a2-4dde-fea2-64f6fe4c4ebc"
      },
      "execution_count": 159,
      "outputs": [
        {
          "output_type": "execute_result",
          "data": {
            "text/plain": [
              "(array([0, 1]), array([40874,   682]))"
            ]
          },
          "metadata": {},
          "execution_count": 159
        }
      ]
    },
    {
      "cell_type": "code",
      "source": [
        "# Aseguramos uso de GPU si está disponible\n",
        "device = torch.device(\"cuda\" if torch.cuda.is_available() else \"cpu\")\n",
        "\n",
        "# Convertir los datos a tensores y mover a GPU\n",
        "X_t = torch.from_numpy(X_train_norm).float().to(device)\n",
        "Y_t = torch.from_numpy(y_train).long().to(device)\n",
        "\n",
        "X_test_t = torch.from_numpy(X_test_norm).float().to(device)\n",
        "Y_test_t = torch.from_numpy(y_test).long().to(device)"
      ],
      "metadata": {
        "id": "OPOOdafXXssY"
      },
      "execution_count": 160,
      "outputs": []
    },
    {
      "cell_type": "code",
      "source": [
        "import torch.nn as nn\n",
        "from sklearn.utils.class_weight import compute_class_weight\n",
        "\n",
        "class Net(nn.Module):\n",
        "    def __init__(self, input_dim):\n",
        "        super(Net, self).__init__()\n",
        "        self.network = nn.Sequential(\n",
        "            nn.Linear(input_dim, 64),\n",
        "            nn.ReLU(),\n",
        "            nn.Dropout(0.3),\n",
        "            nn.Linear(64, 32),\n",
        "            nn.ReLU(),\n",
        "            nn.Linear(32, 2)  # → 2 salidas porque es clasificación binaria\n",
        "        )\n",
        "\n",
        "    def forward(self, x):\n",
        "        return self.network(x)\n",
        "# Modelo a GPU\n",
        "model = Net(X_train_norm.shape[1]).to(device)\n",
        "\n",
        "# Calculamos pesos balanceados\n",
        "y_train_np = np.array(y_train)  # Asegura que es NumPy\n",
        "class_weights = compute_class_weight(class_weight='balanced', classes=np.array([0, 1]), y=y_train)\n",
        "weights_tensor = torch.tensor(class_weights, dtype=torch.float).to(device)\n",
        "\n",
        "# Pérdida y optimizador\n",
        "criterion = torch.nn.CrossEntropyLoss(weight=weights_tensor)\n",
        "optimizer = torch.optim.Adam(model.parameters(), lr=0.001)"
      ],
      "metadata": {
        "id": "dP_ZXkjizcjx"
      },
      "execution_count": 161,
      "outputs": []
    },
    {
      "cell_type": "code",
      "source": [
        "# Bucle de entrenamiento\n",
        "epochs = 100\n",
        "log_each = 10\n",
        "loss_values = []\n",
        "\n",
        "model.train()\n",
        "for epoch in range(1, epochs + 1):\n",
        "    y_pred = model(X_t)\n",
        "\n",
        "    loss = criterion(y_pred, Y_t)\n",
        "    loss_values.append(loss.item())\n",
        "\n",
        "    optimizer.zero_grad()\n",
        "    loss.backward()\n",
        "    optimizer.step()\n",
        "\n",
        "    if epoch % log_each == 0:\n",
        "        print(f\"Epoch {epoch}/{epochs} - Loss: {loss.item():.4f}\")"
      ],
      "metadata": {
        "colab": {
          "base_uri": "https://localhost:8080/"
        },
        "id": "JiHA-NPjWVp-",
        "outputId": "e0d8b424-a22e-4e16-fc23-d47564f31f37",
        "collapsed": true
      },
      "execution_count": 162,
      "outputs": [
        {
          "output_type": "stream",
          "name": "stdout",
          "text": [
            "Epoch 10/100 - Loss: 0.5134\n",
            "Epoch 20/100 - Loss: 0.4404\n",
            "Epoch 30/100 - Loss: 0.3864\n",
            "Epoch 40/100 - Loss: 0.3451\n",
            "Epoch 50/100 - Loss: 0.3227\n",
            "Epoch 60/100 - Loss: 0.3058\n",
            "Epoch 70/100 - Loss: 0.3004\n",
            "Epoch 80/100 - Loss: 0.3018\n",
            "Epoch 90/100 - Loss: 0.2937\n",
            "Epoch 100/100 - Loss: 0.2954\n"
          ]
        }
      ]
    },
    {
      "cell_type": "code",
      "source": [
        "#Gráfica de pérdida\n",
        "import matplotlib.pyplot as plt\n",
        "\n",
        "plt.plot(loss_values)\n",
        "plt.title(\"Pérdida durante el entrenamiento\")\n",
        "plt.xlabel(\"Época\")\n",
        "plt.ylabel(\"Loss\")\n",
        "plt.grid(True)\n",
        "plt.show()"
      ],
      "metadata": {
        "colab": {
          "base_uri": "https://localhost:8080/",
          "height": 0
        },
        "id": "v2BejHQiZHrn",
        "outputId": "95dea6a7-d761-4d1c-cf67-5070acfcf9e7"
      },
      "execution_count": 163,
      "outputs": [
        {
          "output_type": "display_data",
          "data": {
            "text/plain": [
              "<Figure size 640x480 with 1 Axes>"
            ],
            "image/png": "[encoded data removed]"
          },
          "metadata": {}
        }
      ]
    },
    {
      "cell_type": "markdown",
      "source": [
        "El valor de pérdida baja de 0.8 a 0.3, lo cual indica que el modelo está aprendiendo correctamente con cada época"
      ],
      "metadata": {
        "id": "hqDAaWxTE0R2"
      }
    },
    {
      "cell_type": "code",
      "source": [
        "from sklearn.metrics import accuracy_score, confusion_matrix\n",
        "\n",
        "model.eval()\n",
        "with torch.no_grad():\n",
        "    y_pred_test = model(X_test_t)\n",
        "    y_pred_labels = torch.argmax(y_pred_test, axis=1)\n",
        "\n",
        "# Métrica de precisión\n",
        "acc = accuracy_score(y_test, y_pred_labels.cpu().numpy())\n",
        "print(f\"Precisión en el conjunto de prueba: {acc:.4f}\")"
      ],
      "metadata": {
        "colab": {
          "base_uri": "https://localhost:8080/"
        },
        "id": "bU0wNjVdY3YV",
        "outputId": "d3089e55-2675-4162-ec44-041966805c9b"
      },
      "execution_count": 164,
      "outputs": [
        {
          "output_type": "stream",
          "name": "stdout",
          "text": [
            "Precisión en el conjunto de prueba: 0.9098\n"
          ]
        }
      ]
    },
    {
      "cell_type": "markdown",
      "source": [
        "# **6. Gráficos**"
      ],
      "metadata": {
        "id": "CFo_rTngod_a"
      }
    },
    {
      "cell_type": "code",
      "source": [
        "from sklearn.metrics import classification_report, confusion_matrix\n",
        "\n",
        "# Predicciones\n",
        "model.eval()\n",
        "with torch.no_grad():\n",
        "    y_pred_test = model(X_test_t)\n",
        "    y_pred_labels = torch.argmax(y_pred_test, axis=1)\n",
        "\n",
        "# Precisión general\n",
        "accuracy = accuracy_score(y_test, y_pred_labels.cpu().numpy())\n",
        "print(f\"Precisión en test: {accuracy:.4f}\")\n",
        "\n",
        "# Reporte de métricas\n",
        "print(classification_report(y_test, y_pred_labels.cpu().numpy(), target_names=[\"No éxito\", \"Éxito\"]))"
      ],
      "metadata": {
        "colab": {
          "base_uri": "https://localhost:8080/"
        },
        "id": "5qT39R0ApnLD",
        "outputId": "0997dd23-5851-4853-b60c-6e853faf40e3",
        "collapsed": true
      },
      "execution_count": 165,
      "outputs": [
        {
          "output_type": "stream",
          "name": "stdout",
          "text": [
            "Precisión en test: 0.9098\n",
            "              precision    recall  f1-score   support\n",
            "\n",
            "    No éxito       1.00      0.91      0.95     10219\n",
            "       Éxito       0.14      0.86      0.24       170\n",
            "\n",
            "    accuracy                           0.91     10389\n",
            "   macro avg       0.57      0.89      0.60     10389\n",
            "weighted avg       0.98      0.91      0.94     10389\n",
            "\n"
          ]
        }
      ]
    },
    {
      "cell_type": "code",
      "source": [
        "#Matriz de confusión\n",
        "import seaborn as sns\n",
        "import matplotlib.pyplot as plt\n",
        "\n",
        "cm = confusion_matrix(y_test, y_pred_labels.cpu().numpy())\n",
        "\n",
        "plt.figure(figsize=(6, 4))\n",
        "sns.heatmap(cm, annot=True, fmt=\"d\", cmap=\"Blues\", xticklabels=[\"No éxito\", \"Éxito\"], yticklabels=[\"No éxito\", \"Éxito\"])\n",
        "plt.xlabel(\"Predicción\")\n",
        "plt.ylabel(\"Real\")\n",
        "plt.title(\"Matriz de Confusión\")\n",
        "plt.show()"
      ],
      "metadata": {
        "colab": {
          "base_uri": "https://localhost:8080/",
          "height": 410
        },
        "id": "v9DrHUBjZd1d",
        "outputId": "2909949a-d919-4b43-85da-82be62f2e64e",
        "collapsed": true
      },
      "execution_count": 166,
      "outputs": [
        {
          "output_type": "display_data",
          "data": {
            "text/plain": [
              "<Figure size 600x400 with 2 Axes>"
            ],
            "image/png": "[encoded data removed]"
          },
          "metadata": {}
        }
      ]
    },
    {
      "cell_type": "markdown",
      "source": [
        "El modelo acierta muy bien con los “No éxito”, pero tiene dificultades para identificar los casos de “Éxito”"
      ],
      "metadata": {
        "id": "oQ1cXms3FFpF"
      }
    },
    {
      "cell_type": "code",
      "source": [
        "#gráfico muestra la Curva ROC\n",
        "\n",
        "from sklearn.metrics import roc_curve, auc\n",
        "\n",
        "# Obtener probabilidades predichas para clase 1\n",
        "y_prob = torch.softmax(y_pred_test, dim=1)[:, 1].cpu().numpy()\n",
        "fpr, tpr, _ = roc_curve(y_test, y_prob)\n",
        "roc_auc = auc(fpr, tpr)\n",
        "\n",
        "plt.figure(figsize=(6, 6))\n",
        "plt.plot(fpr, tpr, color='darkorange', lw=2, label=f'ROC curve (AUC = {roc_auc:.2f})')\n",
        "plt.plot([0, 1], [0, 1], color='navy', lw=2, linestyle='--')\n",
        "plt.xlabel(\"Tasa de falsos positivos (FPR)\")\n",
        "plt.ylabel(\"Tasa de verdaderos positivos (TPR)\")\n",
        "plt.title(\"Curva ROC\")\n",
        "plt.legend(loc=\"lower right\")\n",
        "plt.grid(True)\n",
        "plt.show()"
      ],
      "metadata": {
        "colab": {
          "base_uri": "https://localhost:8080/",
          "height": 564
        },
        "id": "F_EBVYl1Z5wF",
        "outputId": "d0ce89c8-b8be-4e02-a5be-52e26df3547a",
        "collapsed": true
      },
      "execution_count": 167,
      "outputs": [
        {
          "output_type": "display_data",
          "data": {
            "text/plain": [
              "<Figure size 600x600 with 1 Axes>"
            ],
            "image/png": "[encoded data removed]"
          },
          "metadata": {}
        }
      ]
    },
    {
      "cell_type": "markdown",
      "source": [
        "Aunque la matriz de confusión mostró pocos aciertos para la clase “Éxito”, esta curva indica que el modelo sí es capaz de distinguir bien entre clases si ajustamos mejor el umbral de decisión"
      ],
      "metadata": {
        "id": "iefuDw4dFgBP"
      }
    },
    {
      "cell_type": "code",
      "source": [
        "#Distribución de las probabilidades predichas para la clase \"Éxito\"\n",
        "y_probs = y_prob  # ya obtenido antes\n",
        "\n",
        "plt.hist(y_probs[y_test == 0], bins=20, alpha=0.6, label=\"No éxito\", color='skyblue')\n",
        "plt.hist(y_probs[y_test == 1], bins=20, alpha=0.6, label=\"Éxito\", color='salmon')\n",
        "plt.xlabel(\"Probabilidad predicha para clase 'Éxito'\")\n",
        "plt.ylabel(\"Frecuencia\")\n",
        "plt.title(\"Distribución de las probabilidades predichas\")\n",
        "plt.legend()\n",
        "plt.grid(True)\n",
        "plt.show()"
      ],
      "metadata": {
        "colab": {
          "base_uri": "https://localhost:8080/",
          "height": 474
        },
        "id": "Xvza8CJkZ7ac",
        "outputId": "8f19d01e-387c-489c-f201-5650f879def9",
        "collapsed": true
      },
      "execution_count": 168,
      "outputs": [
        {
          "output_type": "display_data",
          "data": {
            "text/plain": [
              "<Figure size 640x480 with 1 Axes>"
            ],
            "image/png": "[encoded data removed]"
          },
          "metadata": {}
        }
      ]
    },
    {
      "cell_type": "markdown",
      "source": [
        "El modelo sí está captando cierta diferencia entre clases, pero en general predice probabilidades bajas para todos los casos"
      ],
      "metadata": {
        "id": "k5gRpY8DGGiG"
      }
    },
    {
      "cell_type": "markdown",
      "source": [
        "# **7. Interpretacion**"
      ],
      "metadata": {
        "id": "gdT_Eipdpnia"
      }
    },
    {
      "cell_type": "markdown",
      "source": [
        "1. Regresión Logística: Este modelo es simple y rápido que funciona bien en problemas lineales y es fácil de interpretar, pero en este caso obtuvo una precisión menor que la red neuronal, mostrando limitaciones para capturar relaciones complejas en los datos."
      ],
      "metadata": {
        "id": "OUmuQzUGbZ31"
      }
    },
    {
      "cell_type": "markdown",
      "source": [
        "2. Redes neuronales: Al ser un modelo más complejo y capaz de aprender relaciones no lineales, superó en precisión a la regresión logística en este proyecto, demostrando ser una mejor alternativa cuando se busca mayor rendimiento predictivo, aunque a costa de mayor tiempo de entrenamiento y menor interpretabilidad"
      ],
      "metadata": {
        "id": "Yt-m3jERIA-9"
      }
    },
    {
      "cell_type": "markdown",
      "source": [
        "En conclusion, la regresión logística es más simple y rápida, pero limitada y la red neuronal es más potente, pero necesita más recursos, ademas fue la mejor alternativa debido a su mayor precisión."
      ],
      "metadata": {
        "id": "fhq4yuaIIeac"
      }
    }
  ]
}